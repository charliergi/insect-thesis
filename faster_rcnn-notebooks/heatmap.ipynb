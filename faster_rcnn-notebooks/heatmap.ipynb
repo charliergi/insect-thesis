{
 "cells": [
  {
   "cell_type": "code",
   "execution_count": 19,
   "metadata": {},
   "outputs": [],
   "source": [
    "import matplotlib.pyplot as plt\n",
    "import numpy as np\n",
    "import os\n",
    "cwd = os.getcwd()\n",
    "labels_path = \"../data/kitti/final/train/labels\"\n",
    "labels_dir = os.path.join(cwd,labels_path)"
   ]
  },
  {
   "cell_type": "code",
   "execution_count": null,
   "metadata": {},
   "outputs": [],
   "source": [
    "values = np.zeros((512,512))\n",
    "max = 0\n",
    "for labels_file in listdir(labels_dir):\n",
    "    labels_path = os.path.join(labels_dir, labels_file)\n",
    "    with open(labels_path, 'r') as f:\n",
    "        for line in f:\n",
    "            _,_,_,_,minx_str,miny_str,maxx_str,maxy_str,_,_,_,_,_,_,_ = line.split()\n",
    "            minx, miny, maxx, maxy = float(minx_str), float(miny_str), float(maxx_str), float(maxy_str)\n",
    "            for i in range(512):\n",
    "                for j in range(512):\n",
    "                    if(minx<=i<maxx and miny<=j<maxy):\n",
    "                        values[i][j] = values[i][j]+1\n",
    "                        if values[i][j] > max:\n",
    "                            max = values[i][j]\n",
    "values = values / max"
   ]
  },
  {
   "cell_type": "code",
   "execution_count": null,
   "metadata": {},
   "outputs": [],
   "source": [
    "plt.imshow(values, cmap='hot', interpolation='nearest')\n",
    "plt.show()"
   ]
  },
  {
   "cell_type": "code",
   "execution_count": null,
   "metadata": {},
   "outputs": [],
   "source": []
  }
 ],
 "metadata": {
  "kernelspec": {
   "display_name": "Python 3",
   "language": "python",
   "name": "python3"
  },
  "language_info": {
   "codemirror_mode": {
    "name": "ipython",
    "version": 3
   },
   "file_extension": ".py",
   "mimetype": "text/x-python",
   "name": "python",
   "nbconvert_exporter": "python",
   "pygments_lexer": "ipython3",
   "version": "3.8.5"
  }
 },
 "nbformat": 4,
 "nbformat_minor": 4
}
